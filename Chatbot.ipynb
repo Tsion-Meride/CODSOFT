{
  "nbformat": 4,
  "nbformat_minor": 0,
  "metadata": {
    "colab": {
      "provenance": []
    },
    "kernelspec": {
      "name": "python3",
      "display_name": "Python 3"
    },
    "language_info": {
      "name": "python"
    }
  },
  "cells": [
    {
      "cell_type": "code",
      "execution_count": null,
      "metadata": {
        "colab": {
          "base_uri": "https://localhost:8080/"
        },
        "id": "O4daZVQ_lX6-",
        "outputId": "16520293-da6c-45db-c418-610e72a64f64"
      },
      "outputs": [
        {
          "output_type": "stream",
          "name": "stdout",
          "text": [
            "User: goodbye\n",
            "Chatbot: Goodbye! Have a great day!\n"
          ]
        }
      ],
      "source": [
        "def chatbot(input_text):\n",
        "    # Convert user input to lowercase for easier matching\n",
        "    input_text = input_text.lower()\n",
        "\n",
        "    # rules and corresponding responses\n",
        "    if \"hello\" in input_text:\n",
        "        return \"Hello Tsion! How can I assist you today?\"\n",
        "    elif \"Can you assist me with my question\" in input_text:\n",
        "        return \"Yes, I can assist you and help you with your questions!\"\n",
        "    elif \"How can i apply for scholarship\" in input_text:\n",
        "         return \"First I would advice you to look for the universty links then \"\n",
        "    elif \"goodbye\" in input_text:\n",
        "        return \"Goodbye! Have a great day!\"\n",
        "    else:\n",
        "        return \"I'm sorry, I didn't understand that. Can you please rephrase your question?\"\n",
        "\n",
        "while True:\n",
        "    user_input = input(\"User: \")\n",
        "    response = chatbot(user_input)\n",
        "    print(\"Chatbot:\", response)"
      ]
    },
    {
      "cell_type": "code",
      "source": [
        "!"
      ],
      "metadata": {
        "id": "eurD41bCl7z0"
      },
      "execution_count": null,
      "outputs": []
    }
  ]
}